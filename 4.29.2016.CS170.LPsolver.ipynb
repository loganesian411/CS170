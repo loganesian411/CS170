{
 "cells": [
  {
   "cell_type": "code",
   "execution_count": 1,
   "metadata": {
    "collapsed": true
   },
   "outputs": [],
   "source": [
    "import numpy as np\n",
    "import pulp"
   ]
  },
  {
   "cell_type": "code",
   "execution_count": 2,
   "metadata": {
    "collapsed": false
   },
   "outputs": [],
   "source": [
    "# sample cycles\n",
    "samp_cycles = \\\n",
    "[[2, 7, 31, 27],\n",
    " [2, 31, 8, 11, 27],\n",
    " [2, 31, 8, 28, 27],\n",
    " [2, 31, 27],\n",
    " [7, 31, 8, 26],\n",
    " [7, 31, 18, 24, 26],\n",
    " [7, 31, 18, 26],\n",
    " [7, 31, 27, 26],\n",
    " [7, 41],\n",
    " [7, 41, 35, 8, 26],\n",
    " [7, 41, 35, 26],\n",
    " [8, 11, 17, 41, 35],\n",
    " [8, 11, 17, 49, 16],\n",
    " [8, 26, 36, 49, 16],\n",
    " [8, 28, 31],\n",
    " [11, 17, 29, 24, 26],\n",
    " [11, 17, 41, 35, 26],\n",
    " [11, 17, 49],\n",
    " [11, 27, 26],\n",
    " [11, 27, 26, 36, 49],\n",
    " [16, 41, 35],\n",
    " [26, 36]]"
   ]
  },
  {
   "cell_type": "code",
   "execution_count": 3,
   "metadata": {
    "collapsed": true
   },
   "outputs": [],
   "source": [
    "# abstracted, but we would be given the cycle cost pairs\n",
    "cycle_cost_pairs = [(tuple(cycle), np.random.randint(10)) for cycle in samp_cycles]"
   ]
  },
  {
   "cell_type": "code",
   "execution_count": 4,
   "metadata": {
    "collapsed": false
   },
   "outputs": [
    {
     "name": "stdout",
     "output_type": "stream",
     "text": [
      "[((2, 7, 31, 27), 1), ((2, 31, 8, 11, 27), 4), ((2, 31, 8, 28, 27), 6), ((2, 31, 27), 2), ((7, 31, 8, 26), 0), ((7, 31, 18, 24, 26), 7), ((7, 31, 18, 26), 1), ((7, 31, 27, 26), 5), ((7, 41), 2), ((7, 41, 35, 8, 26), 1), ((7, 41, 35, 26), 5), ((8, 11, 17, 41, 35), 2), ((8, 11, 17, 49, 16), 5), ((8, 26, 36, 49, 16), 6), ((8, 28, 31), 1), ((11, 17, 29, 24, 26), 3), ((11, 17, 41, 35, 26), 6), ((11, 17, 49), 6), ((11, 27, 26), 3), ((11, 27, 26, 36, 49), 1), ((16, 41, 35), 0), ((26, 36), 8)]\n"
     ]
    }
   ],
   "source": [
    "print cycle_cost_pairs"
   ]
  },
  {
   "cell_type": "code",
   "execution_count": 5,
   "metadata": {
    "collapsed": true
   },
   "outputs": [],
   "source": [
    "# extract cycles and costs from the given information\n",
    "cycles, costs = zip(*cycle_cost_pairs)"
   ]
  },
  {
   "cell_type": "code",
   "execution_count": 6,
   "metadata": {
    "collapsed": false
   },
   "outputs": [
    {
     "name": "stdout",
     "output_type": "stream",
     "text": [
      "set([2, 35, 36, 49, 7, 8, 41, 11, 16, 17, 18, 24, 26, 27, 28, 29, 31])\n"
     ]
    }
   ],
   "source": [
    "# create a set of all individuals\n",
    "patients = set()\n",
    "[patients.update(cycle) for cycle in cycles]\n",
    "print patients"
   ]
  },
  {
   "cell_type": "code",
   "execution_count": 7,
   "metadata": {
    "collapsed": true
   },
   "outputs": [],
   "source": [
    "def cycleCost(cycle):\n",
    "    \"\"\"Calculate the cost of a particular cycle\"\"\"\n",
    "    return cycle[1]"
   ]
  },
  {
   "cell_type": "code",
   "execution_count": 8,
   "metadata": {
    "collapsed": true
   },
   "outputs": [],
   "source": [
    "#create a binary variable to state that a table setting is used\n",
    "x = pulp.LpVariable.dicts('surgery_group', cycle_cost_pairs,\n",
    "                            lowBound = 0,\n",
    "                            upBound = 1,\n",
    "                            cat = pulp.LpInteger)"
   ]
  },
  {
   "cell_type": "code",
   "execution_count": 9,
   "metadata": {
    "collapsed": true
   },
   "outputs": [],
   "source": [
    "surgery_model = pulp.LpProblem(\"Kidney Donor/Patient Model\", pulp.LpMaximize)"
   ]
  },
  {
   "cell_type": "code",
   "execution_count": 10,
   "metadata": {
    "collapsed": true
   },
   "outputs": [],
   "source": [
    "# objective function\n",
    "surgery_model += sum([cycleCost(cycle) * x[cycle] for cycle in cycle_cost_pairs])"
   ]
  },
  {
   "cell_type": "code",
   "execution_count": 11,
   "metadata": {
    "collapsed": false
   },
   "outputs": [],
   "source": [
    "# constraint that patient must appear no more than once\n",
    "for patient in patients:\n",
    "    surgery_model += sum([x[cycle] for cycle in cycle_cost_pairs\n",
    "                                if patient in cycle[0]]) <= 1 #, \"Must_operate_{0}\".format(patient)"
   ]
  },
  {
   "cell_type": "code",
   "execution_count": 12,
   "metadata": {
    "collapsed": false
   },
   "outputs": [
    {
     "data": {
      "text/plain": [
       "1"
      ]
     },
     "execution_count": 12,
     "metadata": {},
     "output_type": "execute_result"
    }
   ],
   "source": [
    "surgery_model.solve()"
   ]
  },
  {
   "cell_type": "code",
   "execution_count": 13,
   "metadata": {
    "collapsed": false
   },
   "outputs": [
    {
     "name": "stdout",
     "output_type": "stream",
     "text": [
      "The choosen surgery cycles are out of a total of 22 cycles and 17 patients:\n",
      "(2, 31, 8, 28, 27)\n",
      "(7, 41)\n",
      "(11, 17, 49)\n",
      "(26, 36)\n"
     ]
    }
   ],
   "source": [
    "print(\"The choosen surgery cycles are out of a total of {0} cycles and {1} patients:\".format(len(cycle_cost_pairs),\n",
    "                                                                                                 len(patients)))\n",
    "for cycle in cycle_cost_pairs:\n",
    "    if x[cycle].value() == 1.0:\n",
    "        print(cycle[0])"
   ]
  }
 ],
 "metadata": {
  "kernelspec": {
   "display_name": "Python 2",
   "language": "python",
   "name": "python2"
  },
  "language_info": {
   "codemirror_mode": {
    "name": "ipython",
    "version": 2
   },
   "file_extension": ".py",
   "mimetype": "text/x-python",
   "name": "python",
   "nbconvert_exporter": "python",
   "pygments_lexer": "ipython2",
   "version": "2.7.11"
  }
 },
 "nbformat": 4,
 "nbformat_minor": 0
}
